{
 "cells": [
  {
   "cell_type": "markdown",
   "metadata": {},
   "source": [
    "#  [Sec1] forward pretrianed-vggface19 model\n",
    "## if mem less than 20GB directly go sec2\n",
    "## read pretrained vgg face model"
   ]
  },
  {
   "cell_type": "code",
   "execution_count": null,
   "metadata": {
    "collapsed": true
   },
   "outputs": [],
   "source": [
    "import tensorflow as tf\n",
    "import matplotlib.pyplot as plt\n",
    "import numpy as np"
   ]
  },
  {
   "cell_type": "code",
   "execution_count": null,
   "metadata": {
    "collapsed": true
   },
   "outputs": [],
   "source": [
    "sess = tf.InteractiveSession()\n",
    "with open(\"vggface16.tfmodel\", mode='rb') as f:\n",
    "  fileContent = f.read()\n",
    "\n",
    "graph_def = tf.GraphDef()\n",
    "graph_def.ParseFromString(fileContent)"
   ]
  },
  {
   "cell_type": "code",
   "execution_count": null,
   "metadata": {
    "collapsed": false
   },
   "outputs": [],
   "source": [
    "x_tf = tf.placeholder(tf.float32, shape=[None, 32,32,3])\n",
    "x_tf_1=tf.image.resize_images(x_tf,224,224)\n",
    "y_tf = tf.placeholder(tf.int32, shape=[None,])\n",
    "tf.import_graph_def(graph_def, input_map={ \"images\": x_tf_1 })\n",
    "print \"graph loaded from disk\"\n",
    "\n",
    "graph = tf.get_default_graph()"
   ]
  },
  {
   "cell_type": "code",
   "execution_count": null,
   "metadata": {
    "collapsed": true
   },
   "outputs": [],
   "source": [
    "train_writer = tf.train.SummaryWriter('/tmp/loser3/train',sess.graph)"
   ]
  },
  {
   "cell_type": "code",
   "execution_count": null,
   "metadata": {
    "collapsed": false
   },
   "outputs": [],
   "source": [
    "sess.graph.get_operations()[88].values()"
   ]
  },
  {
   "cell_type": "code",
   "execution_count": null,
   "metadata": {
    "collapsed": false
   },
   "outputs": [],
   "source": [
    "#this will get all operation in graph\n",
    "sess.graph.get_operations()\n",
    "#we can get specific operation by\n",
    "graph.get_tensor_by_name(\"import/Relu_1:0\")"
   ]
  },
  {
   "cell_type": "code",
   "execution_count": null,
   "metadata": {
    "collapsed": true
   },
   "outputs": [],
   "source": [
    "#what we want is the out come from fc_7\n",
    "feature_net=graph.get_tensor_by_name(\"import/pool5:0\")\n"
   ]
  },
  {
   "cell_type": "code",
   "execution_count": null,
   "metadata": {
    "collapsed": true
   },
   "outputs": [],
   "source": [
    "frames=np.load(\"outfile_x.npy\")\n",
    "y_train=np.load(\"outfile_y.npy\").astype(int)"
   ]
  },
  {
   "cell_type": "code",
   "execution_count": null,
   "metadata": {
    "collapsed": true
   },
   "outputs": [],
   "source": [
    "feature_x1 = sess.run([feature_net], feed_dict={x_tf:frames[:100], y_tf: y_train[:100]})[0]"
   ]
  },
  {
   "cell_type": "code",
   "execution_count": null,
   "metadata": {
    "collapsed": true
   },
   "outputs": [],
   "source": [
    "trial = sess.run([x_tf_1], feed_dict={x_tf:frames[:100], y_tf: y_train[:100]})[0]"
   ]
  },
  {
   "cell_type": "code",
   "execution_count": null,
   "metadata": {
    "collapsed": false
   },
   "outputs": [],
   "source": [
    "import matplotlib.pyplot as plt\n",
    "%matplotlib inline\n",
    "plt.imshow(trial[3].astype('uint8'))"
   ]
  },
  {
   "cell_type": "markdown",
   "metadata": {},
   "source": [
    "# forward pass all pictures"
   ]
  },
  {
   "cell_type": "code",
   "execution_count": null,
   "metadata": {
    "collapsed": true
   },
   "outputs": [],
   "source": [
    "feature_x1 = sess.run([feature_net], feed_dict={x_tf:frames[:100], y_tf: y_train[:100]})[0]\n",
    "feature_x2 = sess.run([feature_net], feed_dict={x_tf:frames[100:200], y_tf: y_train[100:200]})[0]\n",
    "feature_x3 = sess.run([feature_net], feed_dict={x_tf:frames[200:300], y_tf: y_train[200:300]})[0]\n",
    "feature_x4 = sess.run([feature_net], feed_dict={x_tf:frames[300:400], y_tf: y_train[300:400]})[0]\n",
    "feature_x5 = sess.run([feature_net], feed_dict={x_tf:frames[400:500], y_tf: y_train[400:500]})[0]\n",
    "feature_x6 = sess.run([feature_net], feed_dict={x_tf:frames[500:600], y_tf: y_train[500:600]})[0]\n",
    "feature_x7 = sess.run([feature_net], feed_dict={x_tf:frames[600:700], y_tf: y_train[600:700]})[0]\n",
    "feature_x8 = sess.run([feature_net], feed_dict={x_tf:frames[700:800], y_tf: y_train[700:800]})[0]\n",
    "feature_x9 = sess.run([feature_net], feed_dict={x_tf:frames[800:900], y_tf: y_train[800:900]})[0]\n",
    "feature_x10 = sess.run([feature_net], feed_dict={x_tf:frames[900:], y_tf: y_train[900:]})[0]"
   ]
  },
  {
   "cell_type": "code",
   "execution_count": null,
   "metadata": {
    "collapsed": false
   },
   "outputs": [],
   "source": [
    "feature_x=(np.concatenate((feature_x1, feature_x2, feature_x3,\n",
    "                    feature_x4, feature_x5, feature_x6,\n",
    "                    feature_x7, feature_x8, feature_x9,\n",
    "                    feature_x10), axis=0))\n",
    "print feature_x.shape"
   ]
  },
  {
   "cell_type": "code",
   "execution_count": null,
   "metadata": {
    "collapsed": false
   },
   "outputs": [],
   "source": [
    "np.save(\"/home/stream/whimh2.0/finetune\",feature_x)"
   ]
  },
  {
   "cell_type": "code",
   "execution_count": null,
   "metadata": {
    "collapsed": false
   },
   "outputs": [],
   "source": [
    "from sklearn.preprocessing import normalize\n",
    "#norm2 = normalize(feature_x, axis=1)\n",
    "arr = np.arange(len(feature_x))\n",
    "np.random.shuffle(arr)\n",
    "x_train=feature_x[arr]\n",
    "#x_train=norm2[arr]\n",
    "y_train=y_train[arr]\n",
    "data={\n",
    "  'X_train': x_train[:int(len(x_train)*0.8)],\n",
    "  'y_train': y_train[:int(len(x_train)*0.8)],\n",
    "  'X_val': x_train[int(len(x_train)*0.8):],\n",
    "  'y_val': y_train[int(len(x_train)*0.8):],\n",
    "}\n",
    "print \"there are \"+ str(data['X_train'].shape[0]) + \" images in training set\"\n",
    "print \"there are \"+ str(data['X_val'].shape[0]) + \" images in testing set\""
   ]
  },
  {
   "cell_type": "code",
   "execution_count": null,
   "metadata": {
    "collapsed": true
   },
   "outputs": [],
   "source": [
    "tf.reset_default_graph()\n",
    "sess.close()"
   ]
  },
  {
   "cell_type": "markdown",
   "metadata": {},
   "source": [
    "#  [Sec2] retrain WHIMH\n",
    "# now train softmax model with (?,7,7,512) features "
   ]
  },
  {
   "cell_type": "code",
   "execution_count": 1,
   "metadata": {
    "collapsed": true
   },
   "outputs": [],
   "source": [
    "import tensorflow as tf\n",
    "import matplotlib.pyplot as plt\n",
    "import numpy as np"
   ]
  },
  {
   "cell_type": "code",
   "execution_count": 2,
   "metadata": {
    "collapsed": true
   },
   "outputs": [],
   "source": [
    "feature_x=np.load(\"finetune.npy\")\n",
    "y_train=np.load(\"outfile_y.npy\").astype(int)"
   ]
  },
  {
   "cell_type": "code",
   "execution_count": 3,
   "metadata": {
    "collapsed": false
   },
   "outputs": [
    {
     "name": "stdout",
     "output_type": "stream",
     "text": [
      "there are 770 images in training set\n",
      "there are 193 images in testing set\n"
     ]
    }
   ],
   "source": [
    "#from sklearn.preprocessing import normalize\n",
    "#norm2 = normalize(feature_x, axis=1)\n",
    "arr = np.arange(len(feature_x))\n",
    "np.random.shuffle(arr)\n",
    "x_train=feature_x[arr]\n",
    "#x_train=norm2[arr]\n",
    "y_train=y_train[arr]\n",
    "data={\n",
    "  'X_train': x_train[:int(len(x_train)*0.8)],\n",
    "  'y_train': y_train[:int(len(x_train)*0.8)],\n",
    "  'X_val': x_train[int(len(x_train)*0.8):],\n",
    "  'y_val': y_train[int(len(x_train)*0.8):],\n",
    "}\n",
    "print \"there are \"+ str(data['X_train'].shape[0]) + \" images in training set\"\n",
    "print \"there are \"+ str(data['X_val'].shape[0]) + \" images in testing set\""
   ]
  },
  {
   "cell_type": "code",
   "execution_count": 4,
   "metadata": {
    "collapsed": true
   },
   "outputs": [],
   "source": [
    "sess = tf.InteractiveSession()"
   ]
  },
  {
   "cell_type": "code",
   "execution_count": 5,
   "metadata": {
    "collapsed": true
   },
   "outputs": [],
   "source": [
    "def weight_variable(shape):\n",
    "  initial = tf.truncated_normal(shape, stddev=0.0001)\n",
    "  return tf.Variable(initial)\n",
    "\n",
    "def bias_variable(shape):\n",
    "  initial = tf.constant(0.01, shape=shape)\n",
    "  return tf.Variable(initial)"
   ]
  },
  {
   "cell_type": "code",
   "execution_count": 6,
   "metadata": {
    "collapsed": true
   },
   "outputs": [],
   "source": [
    "x_tfed = tf.placeholder(tf.float32, shape=[None,7,7,512],name='feature_x')\n",
    "y_tf = tf.placeholder(tf.int32, shape=[None,],name='truth_y')"
   ]
  },
  {
   "cell_type": "code",
   "execution_count": 7,
   "metadata": {
    "collapsed": true
   },
   "outputs": [],
   "source": [
    "with tf.name_scope('fintune_whimh'):\n",
    "    with tf.name_scope('finetune_layer'):\n",
    "        #calculate_entropy\n",
    "        h_pool3_flat = tf.reshape(x_tfed, [-1, 7*7*512])\n",
    "        W_whimh_fc1 = weight_variable([7*7*512, 1024])\n",
    "        b_whimh_fc1 = bias_variable([1024])\n",
    "        h_fc1=tf.nn.relu(tf.matmul(h_pool3_flat, W_whimh_fc1) + b_whimh_fc1) \n",
    "        tf.histogram_summary('fc_1/weights', W_whimh_fc1)\n",
    "    with tf.name_scope('finetune_layer'):\n",
    "        #calculate_entropy\n",
    "        W_whimh_fc2 = weight_variable([1024, 3])\n",
    "        b_whimh_fc2 = bias_variable([3])\n",
    "        y_conv=tf.nn.softmax(tf.matmul(h_fc1, W_whimh_fc2) + b_whimh_fc2, name='predictions_softmax') \n",
    "        tf.histogram_summary('fc_2/weights', W_whimh_fc2)\n",
    "    y_tf_2=tf.one_hot(y_tf,3)\n",
    "    with tf.name_scope('loss_calulate'):\n",
    "        #calculate_entropy\n",
    "        cross_entropy = tf.reduce_mean(-tf.reduce_sum(y_tf_2 * tf.log(y_conv), reduction_indices=[1]))\n",
    "    with tf.name_scope('regular'):    \n",
    "        regularizers = (tf.nn.l2_loss(W_whimh_fc1) + tf.nn.l2_loss(b_whimh_fc1)+\n",
    "                        (tf.nn.l2_loss(W_whimh_fc2) + tf.nn.l2_loss(b_whimh_fc2))\n",
    "                       )\n",
    "\n",
    "    with tf.name_scope('loss'):  \n",
    "        loss=cross_entropy+1e-3*regularizers\n",
    "    with tf.name_scope('slover'):\n",
    "        train_step = tf.train.AdamOptimizer(1e-6).minimize(loss)\n",
    "    with tf.name_scope('measure'):\n",
    "        with tf.name_scope('predict'):\n",
    "            predctions=tf.argmax(y_conv,1, name='predictions_')\n",
    "        with tf.name_scope('groundtruth'):\n",
    "            ground_truth=tf.argmax(y_tf_2,1)\n",
    "        correct_prediction = tf.equal(predctions, ground_truth)\n",
    "        accuracy = tf.reduce_mean(tf.cast(correct_prediction, tf.float32))\n",
    "\n",
    "        #MHaccuracy\n",
    "        idxsMH = tf.where(tf.equal(ground_truth, 0))\n",
    "        correct_predictionMH = tf.equal(tf.argmax(tf.gather(y_conv,idxsMH),2), tf.argmax(tf.gather(y_tf_2,idxsMH),2))\n",
    "        accuracyMH = tf.reduce_mean(tf.cast(correct_predictionMH, tf.float32))\n",
    "        #NMaccuracy\n",
    "        idxsNM = tf.where(tf.equal(ground_truth, 1))\n",
    "        correct_predictionNM = tf.equal(tf.argmax(tf.gather(y_conv,idxsNM),2), tf.argmax(tf.gather(y_tf_2,idxsNM),2))\n",
    "        accuracyNM = tf.reduce_mean(tf.cast(correct_predictionNM, tf.float32))\n",
    "        #NHaccuracy\n",
    "        idxsNH = tf.where(tf.equal(ground_truth, 2))\n",
    "        correct_predictionNH = tf.equal(tf.argmax(tf.gather(y_conv,idxsNH),2), tf.argmax(tf.gather(y_tf_2,idxsNH),2))\n",
    "        accuracyNH = tf.reduce_mean(tf.cast(correct_predictionNH, tf.float32))\n",
    "\n",
    "    tf.scalar_summary('accuracy', accuracy)\n",
    "    tf.scalar_summary('accuracyMH', accuracyMH)\n",
    "    tf.scalar_summary('accuracyNM', accuracyNM)\n",
    "    tf.scalar_summary('accuracyNH', accuracyNH)\n",
    "    #this variable means records all records\n",
    "    merged = tf.merge_all_summaries()\n"
   ]
  },
  {
   "cell_type": "code",
   "execution_count": 8,
   "metadata": {
    "collapsed": true
   },
   "outputs": [],
   "source": [
    "train_writer = tf.train.SummaryWriter('/tmp/loser3/train',sess.graph)\n",
    "test_writer = tf.train.SummaryWriter('/tmp/loser3/test',sess.graph)"
   ]
  },
  {
   "cell_type": "code",
   "execution_count": 9,
   "metadata": {
    "collapsed": true
   },
   "outputs": [],
   "source": [
    "sess.run(tf.initialize_all_variables())"
   ]
  },
  {
   "cell_type": "code",
   "execution_count": 10,
   "metadata": {
    "collapsed": false
   },
   "outputs": [
    {
     "name": "stdout",
     "output_type": "stream",
     "text": [
      "step 0, training accuracy 0.561039, testing acc 0.528497\n",
      "step 10, training accuracy 0.945455, testing acc 0.948187\n",
      "step 20, training accuracy 0.966234, testing acc 0.968912\n",
      "step 30, training accuracy 0.980519, testing acc 0.968912\n",
      "step 40, training accuracy 0.984416, testing acc 0.968912\n",
      "step 50, training accuracy 0.993506, testing acc 0.979275\n",
      "step 60, training accuracy 0.996104, testing acc 0.979275\n",
      "step 70, training accuracy 0.997403, testing acc 0.979275\n",
      "step 80, training accuracy 1, testing acc 0.979275\n",
      "step 90, training accuracy 1, testing acc 0.979275\n",
      "test accuracy 0.979275\n"
     ]
    }
   ],
   "source": [
    "k=0\n",
    "for i in range(100):\n",
    "  arr=np.arange(len(data['X_train']))\n",
    "  np.random.shuffle(arr)\n",
    "  idx = arr[:60]\n",
    "  train_step.run(feed_dict={x_tfed:data['X_train'][idx], y_tf: data['y_train'][idx]})\n",
    "  if i%10==0:\n",
    "    ############training acc###########\n",
    "    #train_accuracy = accuracy.eval(feed_dict={   \n",
    "    #x_tf:data['X_train'], y_tf: data['y_train'], keep_prob: 1.0})\n",
    "    summary, train_accuracy = sess.run([merged, accuracy], feed_dict={   \n",
    "            x_tfed:data['X_train'], y_tf: data['y_train']})\n",
    "    train_writer.add_summary(summary, i)\n",
    "    ############testing acc#########\n",
    "    #testing_accuracy = accuracy.eval(feed_dict={   \n",
    "    #x_tf:data['X_val'], y_tf: data['y_val'], keep_prob: 1.0})\n",
    "    \n",
    "    summary, testing_accuracy = sess.run([merged, accuracy], feed_dict={   \n",
    "            x_tfed:data['X_val'], y_tf: data['y_val']})\n",
    "    test_writer.add_summary(summary, i)\n",
    "    print(\"step %d, training accuracy %g, testing acc %g\"%(i, train_accuracy,testing_accuracy))\n",
    "    \n",
    "#overall\n",
    "print(\"test accuracy %g\"%accuracy.eval(feed_dict={\n",
    "    x_tfed:data['X_val'], y_tf: data['y_val']}))"
   ]
  },
  {
   "cell_type": "markdown",
   "metadata": {},
   "source": [
    "# save models using tf.traing.saver"
   ]
  },
  {
   "cell_type": "code",
   "execution_count": null,
   "metadata": {
    "collapsed": false
   },
   "outputs": [],
   "source": [
    "#proto\n",
    "#for sec [3,4]\n",
    "tf.train.write_graph(sess.graph_def, \"/home/stream/whimh2\", \"pretensorWhimh.pb\", False) \n",
    "#save weights\n",
    "saver=tf.train.Saver(tf.all_variables())\n",
    "saver.save(sess,\"PretensorWhimh.ckpt\")"
   ]
  },
  {
   "cell_type": "markdown",
   "metadata": {},
   "source": [
    "# freeze model using ggreeze_graph"
   ]
  },
  {
   "cell_type": "code",
   "execution_count": 11,
   "metadata": {
    "collapsed": false
   },
   "outputs": [],
   "source": [
    "saver = tf.train.Saver()\n",
    "saver.save(sess, 'chkpt', global_step=0, latest_filename='chkpt_state')\n",
    "tf.train.write_graph(sess.graph.as_graph_def(),\"/home/stream/whimh2.0\", 'pretensorWhimh.pb', False)"
   ]
  },
  {
   "cell_type": "code",
   "execution_count": 12,
   "metadata": {
    "collapsed": true
   },
   "outputs": [],
   "source": [
    "from freeze_graph import freeze_graph "
   ]
  },
  {
   "cell_type": "code",
   "execution_count": 13,
   "metadata": {
    "collapsed": false
   },
   "outputs": [
    {
     "data": {
      "text/plain": [
       "[u'feature_x',\n",
       " u'truth_y',\n",
       " u'fintune_whimh/finetune_layer/Reshape/shape',\n",
       " u'fintune_whimh/finetune_layer/Reshape',\n",
       " u'fintune_whimh/finetune_layer/truncated_normal/shape',\n",
       " u'fintune_whimh/finetune_layer/truncated_normal/mean',\n",
       " u'fintune_whimh/finetune_layer/truncated_normal/stddev',\n",
       " u'fintune_whimh/finetune_layer/truncated_normal/TruncatedNormal',\n",
       " u'fintune_whimh/finetune_layer/truncated_normal/mul',\n",
       " u'fintune_whimh/finetune_layer/truncated_normal',\n",
       " u'fintune_whimh/finetune_layer/Variable',\n",
       " u'fintune_whimh/finetune_layer/Variable/Assign',\n",
       " u'fintune_whimh/finetune_layer/Variable/read',\n",
       " u'fintune_whimh/finetune_layer/Const',\n",
       " u'fintune_whimh/finetune_layer/Variable_1',\n",
       " u'fintune_whimh/finetune_layer/Variable_1/Assign',\n",
       " u'fintune_whimh/finetune_layer/Variable_1/read',\n",
       " u'fintune_whimh/finetune_layer/MatMul',\n",
       " u'fintune_whimh/finetune_layer/add',\n",
       " u'fintune_whimh/finetune_layer/Relu',\n",
       " u'fintune_whimh/finetune_layer/HistogramSummary/tag',\n",
       " u'fintune_whimh/finetune_layer/HistogramSummary',\n",
       " u'fintune_whimh/finetune_layer_1/truncated_normal/shape',\n",
       " u'fintune_whimh/finetune_layer_1/truncated_normal/mean',\n",
       " u'fintune_whimh/finetune_layer_1/truncated_normal/stddev',\n",
       " u'fintune_whimh/finetune_layer_1/truncated_normal/TruncatedNormal',\n",
       " u'fintune_whimh/finetune_layer_1/truncated_normal/mul',\n",
       " u'fintune_whimh/finetune_layer_1/truncated_normal',\n",
       " u'fintune_whimh/finetune_layer_1/Variable',\n",
       " u'fintune_whimh/finetune_layer_1/Variable/Assign',\n",
       " u'fintune_whimh/finetune_layer_1/Variable/read',\n",
       " u'fintune_whimh/finetune_layer_1/Const',\n",
       " u'fintune_whimh/finetune_layer_1/Variable_1',\n",
       " u'fintune_whimh/finetune_layer_1/Variable_1/Assign',\n",
       " u'fintune_whimh/finetune_layer_1/Variable_1/read',\n",
       " u'fintune_whimh/finetune_layer_1/MatMul',\n",
       " u'fintune_whimh/finetune_layer_1/add',\n",
       " u'fintune_whimh/finetune_layer_1/predictions_softmax',\n",
       " u'fintune_whimh/finetune_layer_1/HistogramSummary/tag',\n",
       " u'fintune_whimh/finetune_layer_1/HistogramSummary',\n",
       " u'fintune_whimh/one_hot/on_value',\n",
       " u'fintune_whimh/one_hot/off_value',\n",
       " u'fintune_whimh/one_hot/depth',\n",
       " u'fintune_whimh/one_hot',\n",
       " u'fintune_whimh/loss_calulate/Log',\n",
       " u'fintune_whimh/loss_calulate/mul',\n",
       " u'fintune_whimh/loss_calulate/Sum/reduction_indices',\n",
       " u'fintune_whimh/loss_calulate/Sum',\n",
       " u'fintune_whimh/loss_calulate/Neg',\n",
       " u'fintune_whimh/loss_calulate/Rank',\n",
       " u'fintune_whimh/loss_calulate/range/start',\n",
       " u'fintune_whimh/loss_calulate/range/delta',\n",
       " u'fintune_whimh/loss_calulate/range',\n",
       " u'fintune_whimh/loss_calulate/Mean',\n",
       " u'fintune_whimh/regular/L2Loss',\n",
       " u'fintune_whimh/regular/L2Loss_1',\n",
       " u'fintune_whimh/regular/add',\n",
       " u'fintune_whimh/regular/L2Loss_2',\n",
       " u'fintune_whimh/regular/L2Loss_3',\n",
       " u'fintune_whimh/regular/add_1',\n",
       " u'fintune_whimh/regular/add_2',\n",
       " u'fintune_whimh/loss/mul/x',\n",
       " u'fintune_whimh/loss/mul',\n",
       " u'fintune_whimh/loss/add',\n",
       " u'fintune_whimh/slover/gradients/Shape',\n",
       " u'fintune_whimh/slover/gradients/Const',\n",
       " u'fintune_whimh/slover/gradients/Fill',\n",
       " u'fintune_whimh/slover/gradients/fintune_whimh/loss/add_grad/Shape',\n",
       " u'fintune_whimh/slover/gradients/fintune_whimh/loss/add_grad/Shape_1',\n",
       " u'fintune_whimh/slover/gradients/fintune_whimh/loss/add_grad/BroadcastGradientArgs',\n",
       " u'fintune_whimh/slover/gradients/fintune_whimh/loss/add_grad/Sum',\n",
       " u'fintune_whimh/slover/gradients/fintune_whimh/loss/add_grad/Reshape',\n",
       " u'fintune_whimh/slover/gradients/fintune_whimh/loss/add_grad/Sum_1',\n",
       " u'fintune_whimh/slover/gradients/fintune_whimh/loss/add_grad/Reshape_1',\n",
       " u'fintune_whimh/slover/gradients/fintune_whimh/loss/add_grad/tuple/group_deps',\n",
       " u'fintune_whimh/slover/gradients/fintune_whimh/loss/add_grad/tuple/control_dependency',\n",
       " u'fintune_whimh/slover/gradients/fintune_whimh/loss/add_grad/tuple/control_dependency_1',\n",
       " u'fintune_whimh/slover/gradients/fintune_whimh/loss_calulate/Mean_grad/Shape',\n",
       " u'fintune_whimh/slover/gradients/fintune_whimh/loss_calulate/Mean_grad/Size',\n",
       " u'fintune_whimh/slover/gradients/fintune_whimh/loss_calulate/Mean_grad/add',\n",
       " u'fintune_whimh/slover/gradients/fintune_whimh/loss_calulate/Mean_grad/mod',\n",
       " u'fintune_whimh/slover/gradients/fintune_whimh/loss_calulate/Mean_grad/Shape_1',\n",
       " u'fintune_whimh/slover/gradients/fintune_whimh/loss_calulate/Mean_grad/range/start',\n",
       " u'fintune_whimh/slover/gradients/fintune_whimh/loss_calulate/Mean_grad/range/delta',\n",
       " u'fintune_whimh/slover/gradients/fintune_whimh/loss_calulate/Mean_grad/range',\n",
       " u'fintune_whimh/slover/gradients/fintune_whimh/loss_calulate/Mean_grad/Fill/value',\n",
       " u'fintune_whimh/slover/gradients/fintune_whimh/loss_calulate/Mean_grad/Fill',\n",
       " u'fintune_whimh/slover/gradients/fintune_whimh/loss_calulate/Mean_grad/DynamicStitch',\n",
       " u'fintune_whimh/slover/gradients/fintune_whimh/loss_calulate/Mean_grad/Maximum/y',\n",
       " u'fintune_whimh/slover/gradients/fintune_whimh/loss_calulate/Mean_grad/Maximum',\n",
       " u'fintune_whimh/slover/gradients/fintune_whimh/loss_calulate/Mean_grad/floordiv',\n",
       " u'fintune_whimh/slover/gradients/fintune_whimh/loss_calulate/Mean_grad/Reshape',\n",
       " u'fintune_whimh/slover/gradients/fintune_whimh/loss_calulate/Mean_grad/Tile',\n",
       " u'fintune_whimh/slover/gradients/fintune_whimh/loss_calulate/Mean_grad/Shape_2',\n",
       " u'fintune_whimh/slover/gradients/fintune_whimh/loss_calulate/Mean_grad/Shape_3',\n",
       " u'fintune_whimh/slover/gradients/fintune_whimh/loss_calulate/Mean_grad/Rank',\n",
       " u'fintune_whimh/slover/gradients/fintune_whimh/loss_calulate/Mean_grad/range_1/start',\n",
       " u'fintune_whimh/slover/gradients/fintune_whimh/loss_calulate/Mean_grad/range_1/delta',\n",
       " u'fintune_whimh/slover/gradients/fintune_whimh/loss_calulate/Mean_grad/range_1',\n",
       " u'fintune_whimh/slover/gradients/fintune_whimh/loss_calulate/Mean_grad/Prod',\n",
       " u'fintune_whimh/slover/gradients/fintune_whimh/loss_calulate/Mean_grad/Rank_1',\n",
       " u'fintune_whimh/slover/gradients/fintune_whimh/loss_calulate/Mean_grad/range_2/start',\n",
       " u'fintune_whimh/slover/gradients/fintune_whimh/loss_calulate/Mean_grad/range_2/delta',\n",
       " u'fintune_whimh/slover/gradients/fintune_whimh/loss_calulate/Mean_grad/range_2',\n",
       " u'fintune_whimh/slover/gradients/fintune_whimh/loss_calulate/Mean_grad/Prod_1',\n",
       " u'fintune_whimh/slover/gradients/fintune_whimh/loss_calulate/Mean_grad/Maximum_1/y',\n",
       " u'fintune_whimh/slover/gradients/fintune_whimh/loss_calulate/Mean_grad/Maximum_1',\n",
       " u'fintune_whimh/slover/gradients/fintune_whimh/loss_calulate/Mean_grad/floordiv_1',\n",
       " u'fintune_whimh/slover/gradients/fintune_whimh/loss_calulate/Mean_grad/Cast',\n",
       " u'fintune_whimh/slover/gradients/fintune_whimh/loss_calulate/Mean_grad/truediv',\n",
       " u'fintune_whimh/slover/gradients/fintune_whimh/loss/mul_grad/Shape',\n",
       " u'fintune_whimh/slover/gradients/fintune_whimh/loss/mul_grad/Shape_1',\n",
       " u'fintune_whimh/slover/gradients/fintune_whimh/loss/mul_grad/BroadcastGradientArgs',\n",
       " u'fintune_whimh/slover/gradients/fintune_whimh/loss/mul_grad/mul',\n",
       " u'fintune_whimh/slover/gradients/fintune_whimh/loss/mul_grad/Sum',\n",
       " u'fintune_whimh/slover/gradients/fintune_whimh/loss/mul_grad/Reshape',\n",
       " u'fintune_whimh/slover/gradients/fintune_whimh/loss/mul_grad/mul_1',\n",
       " u'fintune_whimh/slover/gradients/fintune_whimh/loss/mul_grad/Sum_1',\n",
       " u'fintune_whimh/slover/gradients/fintune_whimh/loss/mul_grad/Reshape_1',\n",
       " u'fintune_whimh/slover/gradients/fintune_whimh/loss/mul_grad/tuple/group_deps',\n",
       " u'fintune_whimh/slover/gradients/fintune_whimh/loss/mul_grad/tuple/control_dependency',\n",
       " u'fintune_whimh/slover/gradients/fintune_whimh/loss/mul_grad/tuple/control_dependency_1',\n",
       " u'fintune_whimh/slover/gradients/fintune_whimh/regular/add_2_grad/Shape',\n",
       " u'fintune_whimh/slover/gradients/fintune_whimh/regular/add_2_grad/Shape_1',\n",
       " u'fintune_whimh/slover/gradients/fintune_whimh/regular/add_2_grad/BroadcastGradientArgs',\n",
       " u'fintune_whimh/slover/gradients/fintune_whimh/regular/add_2_grad/Sum',\n",
       " u'fintune_whimh/slover/gradients/fintune_whimh/regular/add_2_grad/Reshape',\n",
       " u'fintune_whimh/slover/gradients/fintune_whimh/regular/add_2_grad/Sum_1',\n",
       " u'fintune_whimh/slover/gradients/fintune_whimh/regular/add_2_grad/Reshape_1',\n",
       " u'fintune_whimh/slover/gradients/fintune_whimh/regular/add_2_grad/tuple/group_deps',\n",
       " u'fintune_whimh/slover/gradients/fintune_whimh/regular/add_2_grad/tuple/control_dependency',\n",
       " u'fintune_whimh/slover/gradients/fintune_whimh/regular/add_2_grad/tuple/control_dependency_1',\n",
       " u'fintune_whimh/slover/gradients/fintune_whimh/regular/add_grad/Shape',\n",
       " u'fintune_whimh/slover/gradients/fintune_whimh/regular/add_grad/Shape_1',\n",
       " u'fintune_whimh/slover/gradients/fintune_whimh/regular/add_grad/BroadcastGradientArgs',\n",
       " u'fintune_whimh/slover/gradients/fintune_whimh/regular/add_grad/Sum',\n",
       " u'fintune_whimh/slover/gradients/fintune_whimh/regular/add_grad/Reshape',\n",
       " u'fintune_whimh/slover/gradients/fintune_whimh/regular/add_grad/Sum_1',\n",
       " u'fintune_whimh/slover/gradients/fintune_whimh/regular/add_grad/Reshape_1',\n",
       " u'fintune_whimh/slover/gradients/fintune_whimh/regular/add_grad/tuple/group_deps',\n",
       " u'fintune_whimh/slover/gradients/fintune_whimh/regular/add_grad/tuple/control_dependency',\n",
       " u'fintune_whimh/slover/gradients/fintune_whimh/regular/add_grad/tuple/control_dependency_1',\n",
       " u'fintune_whimh/slover/gradients/fintune_whimh/regular/add_1_grad/Shape',\n",
       " u'fintune_whimh/slover/gradients/fintune_whimh/regular/add_1_grad/Shape_1',\n",
       " u'fintune_whimh/slover/gradients/fintune_whimh/regular/add_1_grad/BroadcastGradientArgs',\n",
       " u'fintune_whimh/slover/gradients/fintune_whimh/regular/add_1_grad/Sum',\n",
       " u'fintune_whimh/slover/gradients/fintune_whimh/regular/add_1_grad/Reshape',\n",
       " u'fintune_whimh/slover/gradients/fintune_whimh/regular/add_1_grad/Sum_1',\n",
       " u'fintune_whimh/slover/gradients/fintune_whimh/regular/add_1_grad/Reshape_1',\n",
       " u'fintune_whimh/slover/gradients/fintune_whimh/regular/add_1_grad/tuple/group_deps',\n",
       " u'fintune_whimh/slover/gradients/fintune_whimh/regular/add_1_grad/tuple/control_dependency',\n",
       " u'fintune_whimh/slover/gradients/fintune_whimh/regular/add_1_grad/tuple/control_dependency_1',\n",
       " u'fintune_whimh/slover/gradients/fintune_whimh/loss_calulate/Neg_grad/Neg',\n",
       " u'fintune_whimh/slover/gradients/fintune_whimh/regular/L2Loss_grad/mul',\n",
       " u'fintune_whimh/slover/gradients/fintune_whimh/regular/L2Loss_1_grad/mul',\n",
       " u'fintune_whimh/slover/gradients/fintune_whimh/regular/L2Loss_2_grad/mul',\n",
       " u'fintune_whimh/slover/gradients/fintune_whimh/regular/L2Loss_3_grad/mul',\n",
       " u'fintune_whimh/slover/gradients/fintune_whimh/loss_calulate/Sum_grad/Shape',\n",
       " u'fintune_whimh/slover/gradients/fintune_whimh/loss_calulate/Sum_grad/Size',\n",
       " u'fintune_whimh/slover/gradients/fintune_whimh/loss_calulate/Sum_grad/add',\n",
       " u'fintune_whimh/slover/gradients/fintune_whimh/loss_calulate/Sum_grad/mod',\n",
       " u'fintune_whimh/slover/gradients/fintune_whimh/loss_calulate/Sum_grad/Shape_1',\n",
       " u'fintune_whimh/slover/gradients/fintune_whimh/loss_calulate/Sum_grad/range/start',\n",
       " u'fintune_whimh/slover/gradients/fintune_whimh/loss_calulate/Sum_grad/range/delta',\n",
       " u'fintune_whimh/slover/gradients/fintune_whimh/loss_calulate/Sum_grad/range',\n",
       " u'fintune_whimh/slover/gradients/fintune_whimh/loss_calulate/Sum_grad/Fill/value',\n",
       " u'fintune_whimh/slover/gradients/fintune_whimh/loss_calulate/Sum_grad/Fill',\n",
       " u'fintune_whimh/slover/gradients/fintune_whimh/loss_calulate/Sum_grad/DynamicStitch',\n",
       " u'fintune_whimh/slover/gradients/fintune_whimh/loss_calulate/Sum_grad/Maximum/y',\n",
       " u'fintune_whimh/slover/gradients/fintune_whimh/loss_calulate/Sum_grad/Maximum',\n",
       " u'fintune_whimh/slover/gradients/fintune_whimh/loss_calulate/Sum_grad/floordiv',\n",
       " u'fintune_whimh/slover/gradients/fintune_whimh/loss_calulate/Sum_grad/Reshape',\n",
       " u'fintune_whimh/slover/gradients/fintune_whimh/loss_calulate/Sum_grad/Tile',\n",
       " u'fintune_whimh/slover/gradients/fintune_whimh/loss_calulate/mul_grad/Shape',\n",
       " u'fintune_whimh/slover/gradients/fintune_whimh/loss_calulate/mul_grad/Shape_1',\n",
       " u'fintune_whimh/slover/gradients/fintune_whimh/loss_calulate/mul_grad/BroadcastGradientArgs',\n",
       " u'fintune_whimh/slover/gradients/fintune_whimh/loss_calulate/mul_grad/mul',\n",
       " u'fintune_whimh/slover/gradients/fintune_whimh/loss_calulate/mul_grad/Sum',\n",
       " u'fintune_whimh/slover/gradients/fintune_whimh/loss_calulate/mul_grad/Reshape',\n",
       " u'fintune_whimh/slover/gradients/fintune_whimh/loss_calulate/mul_grad/mul_1',\n",
       " u'fintune_whimh/slover/gradients/fintune_whimh/loss_calulate/mul_grad/Sum_1',\n",
       " u'fintune_whimh/slover/gradients/fintune_whimh/loss_calulate/mul_grad/Reshape_1',\n",
       " u'fintune_whimh/slover/gradients/fintune_whimh/loss_calulate/mul_grad/tuple/group_deps',\n",
       " u'fintune_whimh/slover/gradients/fintune_whimh/loss_calulate/mul_grad/tuple/control_dependency',\n",
       " u'fintune_whimh/slover/gradients/fintune_whimh/loss_calulate/mul_grad/tuple/control_dependency_1',\n",
       " u'fintune_whimh/slover/gradients/fintune_whimh/loss_calulate/Log_grad/Inv',\n",
       " u'fintune_whimh/slover/gradients/fintune_whimh/loss_calulate/Log_grad/mul',\n",
       " u'fintune_whimh/slover/gradients/fintune_whimh/finetune_layer_1/predictions_softmax_grad/mul',\n",
       " u'fintune_whimh/slover/gradients/fintune_whimh/finetune_layer_1/predictions_softmax_grad/Sum/reduction_indices',\n",
       " u'fintune_whimh/slover/gradients/fintune_whimh/finetune_layer_1/predictions_softmax_grad/Sum',\n",
       " u'fintune_whimh/slover/gradients/fintune_whimh/finetune_layer_1/predictions_softmax_grad/Reshape/shape',\n",
       " u'fintune_whimh/slover/gradients/fintune_whimh/finetune_layer_1/predictions_softmax_grad/Reshape',\n",
       " u'fintune_whimh/slover/gradients/fintune_whimh/finetune_layer_1/predictions_softmax_grad/sub',\n",
       " u'fintune_whimh/slover/gradients/fintune_whimh/finetune_layer_1/predictions_softmax_grad/mul_1',\n",
       " u'fintune_whimh/slover/gradients/fintune_whimh/finetune_layer_1/add_grad/Shape',\n",
       " u'fintune_whimh/slover/gradients/fintune_whimh/finetune_layer_1/add_grad/Shape_1',\n",
       " u'fintune_whimh/slover/gradients/fintune_whimh/finetune_layer_1/add_grad/BroadcastGradientArgs',\n",
       " u'fintune_whimh/slover/gradients/fintune_whimh/finetune_layer_1/add_grad/Sum',\n",
       " u'fintune_whimh/slover/gradients/fintune_whimh/finetune_layer_1/add_grad/Reshape',\n",
       " u'fintune_whimh/slover/gradients/fintune_whimh/finetune_layer_1/add_grad/Sum_1',\n",
       " u'fintune_whimh/slover/gradients/fintune_whimh/finetune_layer_1/add_grad/Reshape_1',\n",
       " u'fintune_whimh/slover/gradients/fintune_whimh/finetune_layer_1/add_grad/tuple/group_deps',\n",
       " u'fintune_whimh/slover/gradients/fintune_whimh/finetune_layer_1/add_grad/tuple/control_dependency',\n",
       " u'fintune_whimh/slover/gradients/fintune_whimh/finetune_layer_1/add_grad/tuple/control_dependency_1',\n",
       " u'fintune_whimh/slover/gradients/fintune_whimh/finetune_layer_1/MatMul_grad/MatMul',\n",
       " u'fintune_whimh/slover/gradients/fintune_whimh/finetune_layer_1/MatMul_grad/MatMul_1',\n",
       " u'fintune_whimh/slover/gradients/fintune_whimh/finetune_layer_1/MatMul_grad/tuple/group_deps',\n",
       " u'fintune_whimh/slover/gradients/fintune_whimh/finetune_layer_1/MatMul_grad/tuple/control_dependency',\n",
       " u'fintune_whimh/slover/gradients/fintune_whimh/finetune_layer_1/MatMul_grad/tuple/control_dependency_1',\n",
       " u'fintune_whimh/slover/gradients/AddN',\n",
       " u'fintune_whimh/slover/gradients/fintune_whimh/finetune_layer/Relu_grad/ReluGrad',\n",
       " u'fintune_whimh/slover/gradients/AddN_1',\n",
       " u'fintune_whimh/slover/gradients/fintune_whimh/finetune_layer/add_grad/Shape',\n",
       " u'fintune_whimh/slover/gradients/fintune_whimh/finetune_layer/add_grad/Shape_1',\n",
       " u'fintune_whimh/slover/gradients/fintune_whimh/finetune_layer/add_grad/BroadcastGradientArgs',\n",
       " u'fintune_whimh/slover/gradients/fintune_whimh/finetune_layer/add_grad/Sum',\n",
       " u'fintune_whimh/slover/gradients/fintune_whimh/finetune_layer/add_grad/Reshape',\n",
       " u'fintune_whimh/slover/gradients/fintune_whimh/finetune_layer/add_grad/Sum_1',\n",
       " u'fintune_whimh/slover/gradients/fintune_whimh/finetune_layer/add_grad/Reshape_1',\n",
       " u'fintune_whimh/slover/gradients/fintune_whimh/finetune_layer/add_grad/tuple/group_deps',\n",
       " u'fintune_whimh/slover/gradients/fintune_whimh/finetune_layer/add_grad/tuple/control_dependency',\n",
       " u'fintune_whimh/slover/gradients/fintune_whimh/finetune_layer/add_grad/tuple/control_dependency_1',\n",
       " u'fintune_whimh/slover/gradients/fintune_whimh/finetune_layer/MatMul_grad/MatMul',\n",
       " u'fintune_whimh/slover/gradients/fintune_whimh/finetune_layer/MatMul_grad/MatMul_1',\n",
       " u'fintune_whimh/slover/gradients/fintune_whimh/finetune_layer/MatMul_grad/tuple/group_deps',\n",
       " u'fintune_whimh/slover/gradients/fintune_whimh/finetune_layer/MatMul_grad/tuple/control_dependency',\n",
       " u'fintune_whimh/slover/gradients/fintune_whimh/finetune_layer/MatMul_grad/tuple/control_dependency_1',\n",
       " u'fintune_whimh/slover/gradients/AddN_2',\n",
       " u'fintune_whimh/slover/gradients/AddN_3',\n",
       " u'fintune_whimh/slover/beta1_power/initial_value',\n",
       " u'fintune_whimh/slover/beta1_power',\n",
       " u'fintune_whimh/slover/beta1_power/Assign',\n",
       " u'fintune_whimh/slover/beta1_power/read',\n",
       " u'fintune_whimh/slover/beta2_power/initial_value',\n",
       " u'fintune_whimh/slover/beta2_power',\n",
       " u'fintune_whimh/slover/beta2_power/Assign',\n",
       " u'fintune_whimh/slover/beta2_power/read',\n",
       " u'fintune_whimh/slover/zeros',\n",
       " u'fintune_whimh/slover/fintune_whimh/finetune_layer/Variable/Adam',\n",
       " u'fintune_whimh/slover/fintune_whimh/finetune_layer/Variable/Adam/Assign',\n",
       " u'fintune_whimh/slover/fintune_whimh/finetune_layer/Variable/Adam/read',\n",
       " u'fintune_whimh/slover/zeros_1',\n",
       " u'fintune_whimh/slover/fintune_whimh/finetune_layer/Variable/Adam_1',\n",
       " u'fintune_whimh/slover/fintune_whimh/finetune_layer/Variable/Adam_1/Assign',\n",
       " u'fintune_whimh/slover/fintune_whimh/finetune_layer/Variable/Adam_1/read',\n",
       " u'fintune_whimh/slover/zeros_2',\n",
       " u'fintune_whimh/slover/fintune_whimh/finetune_layer/Variable_1/Adam',\n",
       " u'fintune_whimh/slover/fintune_whimh/finetune_layer/Variable_1/Adam/Assign',\n",
       " u'fintune_whimh/slover/fintune_whimh/finetune_layer/Variable_1/Adam/read',\n",
       " u'fintune_whimh/slover/zeros_3',\n",
       " u'fintune_whimh/slover/fintune_whimh/finetune_layer/Variable_1/Adam_1',\n",
       " u'fintune_whimh/slover/fintune_whimh/finetune_layer/Variable_1/Adam_1/Assign',\n",
       " u'fintune_whimh/slover/fintune_whimh/finetune_layer/Variable_1/Adam_1/read',\n",
       " u'fintune_whimh/slover/zeros_4',\n",
       " u'fintune_whimh/slover/fintune_whimh/finetune_layer_1/Variable/Adam',\n",
       " u'fintune_whimh/slover/fintune_whimh/finetune_layer_1/Variable/Adam/Assign',\n",
       " u'fintune_whimh/slover/fintune_whimh/finetune_layer_1/Variable/Adam/read',\n",
       " u'fintune_whimh/slover/zeros_5',\n",
       " u'fintune_whimh/slover/fintune_whimh/finetune_layer_1/Variable/Adam_1',\n",
       " u'fintune_whimh/slover/fintune_whimh/finetune_layer_1/Variable/Adam_1/Assign',\n",
       " u'fintune_whimh/slover/fintune_whimh/finetune_layer_1/Variable/Adam_1/read',\n",
       " u'fintune_whimh/slover/zeros_6',\n",
       " u'fintune_whimh/slover/fintune_whimh/finetune_layer_1/Variable_1/Adam',\n",
       " u'fintune_whimh/slover/fintune_whimh/finetune_layer_1/Variable_1/Adam/Assign',\n",
       " u'fintune_whimh/slover/fintune_whimh/finetune_layer_1/Variable_1/Adam/read',\n",
       " u'fintune_whimh/slover/zeros_7',\n",
       " u'fintune_whimh/slover/fintune_whimh/finetune_layer_1/Variable_1/Adam_1',\n",
       " u'fintune_whimh/slover/fintune_whimh/finetune_layer_1/Variable_1/Adam_1/Assign',\n",
       " u'fintune_whimh/slover/fintune_whimh/finetune_layer_1/Variable_1/Adam_1/read',\n",
       " u'fintune_whimh/slover/Adam/learning_rate',\n",
       " u'fintune_whimh/slover/Adam/beta1',\n",
       " u'fintune_whimh/slover/Adam/beta2',\n",
       " u'fintune_whimh/slover/Adam/epsilon',\n",
       " u'fintune_whimh/slover/Adam/update_fintune_whimh/finetune_layer/Variable/ApplyAdam',\n",
       " u'fintune_whimh/slover/Adam/update_fintune_whimh/finetune_layer/Variable_1/ApplyAdam',\n",
       " u'fintune_whimh/slover/Adam/update_fintune_whimh/finetune_layer_1/Variable/ApplyAdam',\n",
       " u'fintune_whimh/slover/Adam/update_fintune_whimh/finetune_layer_1/Variable_1/ApplyAdam',\n",
       " u'fintune_whimh/slover/Adam/mul',\n",
       " u'fintune_whimh/slover/Adam/Assign',\n",
       " u'fintune_whimh/slover/Adam/mul_1',\n",
       " u'fintune_whimh/slover/Adam/Assign_1',\n",
       " u'fintune_whimh/slover/Adam',\n",
       " u'fintune_whimh/measure/predict/predictions_/dimension',\n",
       " u'fintune_whimh/measure/predict/predictions_',\n",
       " u'fintune_whimh/measure/groundtruth/ArgMax/dimension',\n",
       " u'fintune_whimh/measure/groundtruth/ArgMax',\n",
       " u'fintune_whimh/measure/Equal',\n",
       " u'fintune_whimh/measure/Cast',\n",
       " u'fintune_whimh/measure/Rank',\n",
       " u'fintune_whimh/measure/range/start',\n",
       " u'fintune_whimh/measure/range/delta',\n",
       " u'fintune_whimh/measure/range',\n",
       " u'fintune_whimh/measure/Mean',\n",
       " u'fintune_whimh/measure/Equal_1/y',\n",
       " u'fintune_whimh/measure/Equal_1',\n",
       " u'fintune_whimh/measure/Where',\n",
       " u'fintune_whimh/measure/Gather',\n",
       " u'fintune_whimh/measure/ArgMax/dimension',\n",
       " u'fintune_whimh/measure/ArgMax',\n",
       " u'fintune_whimh/measure/Gather_1',\n",
       " u'fintune_whimh/measure/ArgMax_1/dimension',\n",
       " u'fintune_whimh/measure/ArgMax_1',\n",
       " u'fintune_whimh/measure/Equal_2',\n",
       " u'fintune_whimh/measure/Cast_1',\n",
       " u'fintune_whimh/measure/Rank_1',\n",
       " u'fintune_whimh/measure/range_1/start',\n",
       " u'fintune_whimh/measure/range_1/delta',\n",
       " u'fintune_whimh/measure/range_1',\n",
       " u'fintune_whimh/measure/Mean_1',\n",
       " u'fintune_whimh/measure/Equal_3/y',\n",
       " u'fintune_whimh/measure/Equal_3',\n",
       " u'fintune_whimh/measure/Where_1',\n",
       " u'fintune_whimh/measure/Gather_2',\n",
       " u'fintune_whimh/measure/ArgMax_2/dimension',\n",
       " u'fintune_whimh/measure/ArgMax_2',\n",
       " u'fintune_whimh/measure/Gather_3',\n",
       " u'fintune_whimh/measure/ArgMax_3/dimension',\n",
       " u'fintune_whimh/measure/ArgMax_3',\n",
       " u'fintune_whimh/measure/Equal_4',\n",
       " u'fintune_whimh/measure/Cast_2',\n",
       " u'fintune_whimh/measure/Rank_2',\n",
       " u'fintune_whimh/measure/range_2/start',\n",
       " u'fintune_whimh/measure/range_2/delta',\n",
       " u'fintune_whimh/measure/range_2',\n",
       " u'fintune_whimh/measure/Mean_2',\n",
       " u'fintune_whimh/measure/Equal_5/y',\n",
       " u'fintune_whimh/measure/Equal_5',\n",
       " u'fintune_whimh/measure/Where_2',\n",
       " u'fintune_whimh/measure/Gather_4',\n",
       " u'fintune_whimh/measure/ArgMax_4/dimension',\n",
       " u'fintune_whimh/measure/ArgMax_4',\n",
       " u'fintune_whimh/measure/Gather_5',\n",
       " u'fintune_whimh/measure/ArgMax_5/dimension',\n",
       " u'fintune_whimh/measure/ArgMax_5',\n",
       " u'fintune_whimh/measure/Equal_6',\n",
       " u'fintune_whimh/measure/Cast_3',\n",
       " u'fintune_whimh/measure/Rank_3',\n",
       " u'fintune_whimh/measure/range_3/start',\n",
       " u'fintune_whimh/measure/range_3/delta',\n",
       " u'fintune_whimh/measure/range_3',\n",
       " u'fintune_whimh/measure/Mean_3',\n",
       " u'fintune_whimh/ScalarSummary/tags',\n",
       " u'fintune_whimh/ScalarSummary',\n",
       " u'fintune_whimh/ScalarSummary_1/tags',\n",
       " u'fintune_whimh/ScalarSummary_1',\n",
       " u'fintune_whimh/ScalarSummary_2/tags',\n",
       " u'fintune_whimh/ScalarSummary_2',\n",
       " u'fintune_whimh/ScalarSummary_3/tags',\n",
       " u'fintune_whimh/ScalarSummary_3',\n",
       " u'fintune_whimh/MergeSummary/MergeSummary',\n",
       " u'init',\n",
       " u'save/Const',\n",
       " u'save/save/tensor_names',\n",
       " u'save/save/shapes_and_slices',\n",
       " u'save/save',\n",
       " u'save/control_dependency',\n",
       " u'save/restore_slice/tensor_name',\n",
       " u'save/restore_slice/shape_and_slice',\n",
       " u'save/restore_slice',\n",
       " u'save/Assign',\n",
       " u'save/restore_slice_1/tensor_name',\n",
       " u'save/restore_slice_1/shape_and_slice',\n",
       " u'save/restore_slice_1',\n",
       " u'save/Assign_1',\n",
       " u'save/restore_slice_2/tensor_name',\n",
       " u'save/restore_slice_2/shape_and_slice',\n",
       " u'save/restore_slice_2',\n",
       " u'save/Assign_2',\n",
       " u'save/restore_slice_3/tensor_name',\n",
       " u'save/restore_slice_3/shape_and_slice',\n",
       " u'save/restore_slice_3',\n",
       " u'save/Assign_3',\n",
       " u'save/restore_slice_4/tensor_name',\n",
       " u'save/restore_slice_4/shape_and_slice',\n",
       " u'save/restore_slice_4',\n",
       " u'save/Assign_4',\n",
       " u'save/restore_slice_5/tensor_name',\n",
       " u'save/restore_slice_5/shape_and_slice',\n",
       " u'save/restore_slice_5',\n",
       " u'save/Assign_5',\n",
       " u'save/restore_slice_6/tensor_name',\n",
       " u'save/restore_slice_6/shape_and_slice',\n",
       " u'save/restore_slice_6',\n",
       " u'save/Assign_6',\n",
       " u'save/restore_slice_7/tensor_name',\n",
       " u'save/restore_slice_7/shape_and_slice',\n",
       " u'save/restore_slice_7',\n",
       " u'save/Assign_7',\n",
       " u'save/restore_slice_8/tensor_name',\n",
       " u'save/restore_slice_8/shape_and_slice',\n",
       " u'save/restore_slice_8',\n",
       " u'save/Assign_8',\n",
       " u'save/restore_slice_9/tensor_name',\n",
       " u'save/restore_slice_9/shape_and_slice',\n",
       " u'save/restore_slice_9',\n",
       " u'save/Assign_9',\n",
       " u'save/restore_slice_10/tensor_name',\n",
       " u'save/restore_slice_10/shape_and_slice',\n",
       " u'save/restore_slice_10',\n",
       " u'save/Assign_10',\n",
       " u'save/restore_slice_11/tensor_name',\n",
       " u'save/restore_slice_11/shape_and_slice',\n",
       " u'save/restore_slice_11',\n",
       " u'save/Assign_11',\n",
       " u'save/restore_slice_12/tensor_name',\n",
       " u'save/restore_slice_12/shape_and_slice',\n",
       " u'save/restore_slice_12',\n",
       " u'save/Assign_12',\n",
       " u'save/restore_slice_13/tensor_name',\n",
       " u'save/restore_slice_13/shape_and_slice',\n",
       " u'save/restore_slice_13',\n",
       " u'save/Assign_13',\n",
       " u'save/restore_all']"
      ]
     },
     "execution_count": 13,
     "metadata": {},
     "output_type": "execute_result"
    }
   ],
   "source": [
    "[i.name for i in sess.graph.get_operations()]"
   ]
  },
  {
   "cell_type": "code",
   "execution_count": 15,
   "metadata": {
    "collapsed": false
   },
   "outputs": [
    {
     "name": "stdout",
     "output_type": "stream",
     "text": [
      "Converted 4 variables to const ops.\n",
      "19 ops in the final graph.\n"
     ]
    }
   ],
   "source": [
    "input_saver_def_path = ''\n",
    "input_binary=True\n",
    "input_checkpoint_path = 'chkpt-0'\n",
    "input_graph_path = 'pretensorWhimh.pb'\n",
    "output_graph_path = 'pretensorWhimh.pb'\n",
    "output_node_names = 'fintune_whimh/measure/predict/predictions_'\n",
    "restore_op_name = \"save/restore_all\"\n",
    "filename_tensor_name = \"save/Const:0\"\n",
    "clear_devices = True\n",
    "\n",
    "freeze_graph(input_graph_path, input_saver_def_path,\n",
    "                              input_binary, input_checkpoint_path,\n",
    "                              output_node_names, restore_op_name,\n",
    "                              filename_tensor_name, output_graph_path,\n",
    "                              clear_devices, \"\")"
   ]
  },
  {
   "cell_type": "code",
   "execution_count": 16,
   "metadata": {
    "collapsed": true
   },
   "outputs": [],
   "source": [
    "tf.reset_default_graph()\n",
    "sess.close()"
   ]
  },
  {
   "cell_type": "markdown",
   "metadata": {
    "collapsed": true
   },
   "source": [
    "# [sec 3] conncate these two models using twice sess.run"
   ]
  },
  {
   "cell_type": "code",
   "execution_count": null,
   "metadata": {
    "collapsed": true
   },
   "outputs": [],
   "source": [
    "import tensorflow as tf\n",
    "import matplotlib.pyplot as plt\n",
    "import numpy as np\n",
    "sess = tf.InteractiveSession()\n",
    "graph = tf.get_default_graph()"
   ]
  },
  {
   "cell_type": "code",
   "execution_count": null,
   "metadata": {
    "collapsed": false
   },
   "outputs": [],
   "source": [
    "newsaver=tf.train.import_meta_graph('PretensorWhimh.ckpt.meta')\n",
    "newsaver.restore(sess,'PretensorWhimh.ckpt')"
   ]
  },
  {
   "cell_type": "code",
   "execution_count": null,
   "metadata": {
    "collapsed": false
   },
   "outputs": [],
   "source": [
    "graph = tf.get_default_graph()\n",
    "pool5=graph.get_tensor_by_name(\"feature_x:0\")\n",
    "results=graph.get_tensor_by_name(\"fintune_whimh/measure/predict/ArgMax:0\")"
   ]
  },
  {
   "cell_type": "code",
   "execution_count": null,
   "metadata": {
    "collapsed": false
   },
   "outputs": [],
   "source": [
    "\n",
    "with open(\"vggface16.tfmodel\", mode='rb') as f:\n",
    "  fileContent = f.read()\n",
    "\n",
    "graph_def = tf.GraphDef()\n",
    "graph_def.ParseFromString(fileContent)\n",
    "x_tf = tf.placeholder(tf.float32, shape=[None, 32,32,3],name=\"raw_images_mh\")\n",
    "x_tf_1=tf.image.resize_images(x_tf,224,224)\n",
    "y_tf = tf.placeholder(tf.int32, shape=[None,],name=\"turth_y_mh\")\n",
    "feature_x=tf.import_graph_def(graph_def,name='vggface', input_map={ \"images\": x_tf_1 },return_elements=[\"pool5:0\"])\n",
    "print \"graph loaded from disk\"\n",
    "\n"
   ]
  },
  {
   "cell_type": "code",
   "execution_count": null,
   "metadata": {
    "collapsed": false
   },
   "outputs": [],
   "source": [
    "sess.graph.get_operations()[0].values()"
   ]
  },
  {
   "cell_type": "code",
   "execution_count": null,
   "metadata": {
    "collapsed": false
   },
   "outputs": [],
   "source": [
    "#load data\n",
    "frames=np.load(\"outfile_x.npy\")\n",
    "y_train=np.load(\"outfile_y.npy\").astype(int)"
   ]
  },
  {
   "cell_type": "code",
   "execution_count": null,
   "metadata": {
    "collapsed": false
   },
   "outputs": [],
   "source": [
    "arr = np.arange(len(frames))\n",
    "np.random.shuffle(arr)\n",
    "print y_train [arr[:10]]\n",
    "pool_x=sess.run(feature_x, feed_dict={x_tf:frames[arr[:10]]})[0]\n",
    "sess.run(results, feed_dict={pool5:pool_x})"
   ]
  },
  {
   "cell_type": "code",
   "execution_count": 17,
   "metadata": {
    "collapsed": true
   },
   "outputs": [],
   "source": [
    "train_writer = tf.train.SummaryWriter('/tmp/loser/train',sess.graph)\n",
    "tf.reset_default_graph()\n",
    "sess.close()"
   ]
  },
  {
   "cell_type": "markdown",
   "metadata": {
    "collapsed": true
   },
   "source": [
    "# [sec 4] conncate these two models using two freeze model"
   ]
  },
  {
   "cell_type": "code",
   "execution_count": 18,
   "metadata": {
    "collapsed": false
   },
   "outputs": [],
   "source": [
    "import tensorflow as tf\n",
    "import matplotlib.pyplot as plt\n",
    "import numpy as np\n",
    "sess = tf.InteractiveSession()\n",
    "x_tf = tf.placeholder(tf.float32, shape=[None, 32,32,3],name=\"raw_images_mh\")\n",
    "x_tf_1=tf.image.resize_images(x_tf,224,224)\n",
    "y_tf = tf.placeholder(tf.int32, shape=[None,],name=\"turth_y_mh\")"
   ]
  },
  {
   "cell_type": "code",
   "execution_count": 19,
   "metadata": {
    "collapsed": false
   },
   "outputs": [],
   "source": [
    "\n",
    "with open(\"pretensorWhimh.pb\", mode='rb') as f:\n",
    "  fileContent = f.read()\n",
    "\n",
    "gdef_1 = tf.GraphDef()\n",
    "gdef_1.ParseFromString(fileContent)\n"
   ]
  },
  {
   "cell_type": "code",
   "execution_count": 20,
   "metadata": {
    "collapsed": true
   },
   "outputs": [],
   "source": [
    "#tf.import_graph_def(gdef_1)\n",
    "#[i.name for i in sess.graph.get_operations()]"
   ]
  },
  {
   "cell_type": "code",
   "execution_count": 21,
   "metadata": {
    "collapsed": false
   },
   "outputs": [],
   "source": [
    "with open(\"vggface16.tfmodel\", mode='rb') as f:\n",
    "  fileContent = f.read()\n",
    "gdef_2 = tf.GraphDef()\n",
    "gdef_2.ParseFromString(fileContent)"
   ]
  },
  {
   "cell_type": "code",
   "execution_count": 27,
   "metadata": {
    "collapsed": false
   },
   "outputs": [],
   "source": [
    "with tf.Graph().as_default() as g_combined:\n",
    "  feature_x=tf.import_graph_def(gdef_2, input_map={ \"images\": x_tf_1 },return_elements=[\"pool5:0\"])\n",
    "  #feature\n",
    "  results=tf.import_graph_def(gdef_1, input_map={ \"feature_x:0\": feature_x[0]},return_elements=[\"fintune_whimh/measure/predict/predictions_:0\"])\n",
    "\n"
   ]
  },
  {
   "cell_type": "code",
   "execution_count": 28,
   "metadata": {
    "collapsed": true
   },
   "outputs": [],
   "source": [
    "frames=np.load(\"outfile_x.npy\")\n",
    "y_train=np.load(\"outfile_y.npy\").astype(int)\n",
    "\n"
   ]
  },
  {
   "cell_type": "code",
   "execution_count": 31,
   "metadata": {
    "collapsed": false
   },
   "outputs": [
    {
     "name": "stdout",
     "output_type": "stream",
     "text": [
      "[0 0 0 0 0 0 0 0 0 0]\n"
     ]
    }
   ],
   "source": []
  },
  {
   "cell_type": "code",
   "execution_count": 33,
   "metadata": {
    "collapsed": false
   },
   "outputs": [
    {
     "data": {
      "text/plain": [
       "[array([1, 2, 0, 0, 0, 1, 2, 1, 1, 2])]"
      ]
     },
     "execution_count": 33,
     "metadata": {},
     "output_type": "execute_result"
    }
   ],
   "source": [
    "arr = np.arange(len(frames))\n",
    "np.random.shuffle(arr)\n",
    "print y_train[arr[0:10]]\n",
    "sess.run(results, feed_dict={x_tf:frames[arr[0:10]]})"
   ]
  },
  {
   "cell_type": "code",
   "execution_count": null,
   "metadata": {
    "collapsed": true
   },
   "outputs": [],
   "source": []
  }
 ],
 "metadata": {
  "kernelspec": {
   "display_name": "Python 2",
   "language": "python",
   "name": "python2"
  },
  "language_info": {
   "codemirror_mode": {
    "name": "ipython",
    "version": 2
   },
   "file_extension": ".py",
   "mimetype": "text/x-python",
   "name": "python",
   "nbconvert_exporter": "python",
   "pygments_lexer": "ipython2",
   "version": "2.7.12"
  }
 },
 "nbformat": 4,
 "nbformat_minor": 0
}
