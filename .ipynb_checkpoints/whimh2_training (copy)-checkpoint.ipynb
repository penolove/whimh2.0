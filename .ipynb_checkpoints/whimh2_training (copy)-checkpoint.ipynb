{
 "cells": [
  {
   "cell_type": "code",
   "execution_count": null,
   "metadata": {
    "collapsed": true
   },
   "outputs": [],
   "source": [
    "import matplotlib.pyplot as plt\n",
    "import numpy as np\n",
    "\n",
    "%matplotlib inline\n",
    "plt.rcParams['figure.figsize'] = (10.0, 8.0) # set default size of plots\n",
    "plt.rcParams['image.interpolation'] = 'nearest'\n",
    "plt.rcParams['image.cmap'] = 'gray'"
   ]
  },
  {
   "cell_type": "code",
   "execution_count": null,
   "metadata": {
    "collapsed": false
   },
   "outputs": [],
   "source": [
    "frames=np.load(\"outfile_x.npy\")\n",
    "y_train=np.load(\"outfile_y.npy\")"
   ]
  },
  {
   "cell_type": "code",
   "execution_count": null,
   "metadata": {
    "collapsed": false
   },
   "outputs": [],
   "source": [
    "classes = ['min-han','not_mh','not_human']\n",
    "num_classes = 3\n",
    "samples_per_class = 5\n",
    "for y, cls in enumerate(classes):\n",
    "    idxs = np.flatnonzero(y_train == y)\n",
    "    idxs = np.random.choice(idxs, samples_per_class, replace=False)\n",
    "    for i, idx in enumerate(idxs):\n",
    "        plt_idx = i * num_classes + y + 1\n",
    "        plt.subplot(samples_per_class, num_classes, plt_idx)\n",
    "        plt.imshow(frames[idx].astype('uint8'))\n",
    "        plt.axis('off')\n",
    "        if i == 0:\n",
    "            plt.title(cls)\n",
    "plt.show()\n"
   ]
  },
  {
   "cell_type": "code",
   "execution_count": null,
   "metadata": {
    "collapsed": false
   },
   "outputs": [],
   "source": [
    "arr = np.arange(len(frames))\n",
    "np.random.shuffle(arr)\n",
    "x_train=frames[arr]\n",
    "y_train=y_train[arr].astype('uint8')\n",
    "\n",
    "x_train_temp = np.empty((x_train.shape[0],x_train.shape[3],x_train.shape[1],x_train.shape[2]))\n",
    "print \"there are \"+ str(x_train.shape[0]) + \" images\"\n",
    "for j in range(x_train.shape[0]):\n",
    "    for i in range(x_train.shape[3]):\n",
    "        x_train_temp[j,i,:,:]=x_train[j,:,:,i]\n",
    "x_train=x_train_temp\n",
    "\n",
    "## this one used to reinMH\n",
    "#mhInTraining=np.where(y_train[:int(len(x_train)*0.8)]==0)\n",
    "#mhNotInTraining=np.where(y_train[:int(len(x_train)*0.8)]!=0)\n",
    "#idx_mh=np.random.choice(mhInTraining[0], len(mhInTraining[0])*2, replace=True)\n",
    "#rein_mh=np.hstack((idx_mh,mhNotInTraining[0][:int(len(mhNotInTraining[0])*0.8)]))\n",
    "#arr = np.arange(len(rein_mh))\n",
    "#rein_mh=rein_mh[arr]\n",
    "\n",
    "\n",
    "data={\n",
    "  'X_train': x_train[:int(len(x_train)*0.8)],\n",
    "  'y_train': y_train[:int(len(x_train)*0.8)],\n",
    "  'X_val': x_train[int(len(x_train)*0.8):],\n",
    "  'y_val': y_train[int(len(x_train)*0.8):],\n",
    "}\n",
    "print \"there are \"+ str(data['X_train'].shape[0]) + \" images in training set\"\n",
    "print \"there are \"+ str(data['X_val'].shape[0]) + \" images in testing set\""
   ]
  },
  {
   "cell_type": "code",
   "execution_count": null,
   "metadata": {
    "collapsed": false
   },
   "outputs": [],
   "source": [
    "#this cell will load pretrained model\n",
    "import pickle \n",
    "with open('Whimh_model.dkl','rb') as input:\n",
    "    model=pickle.load(input)"
   ]
  },
  {
   "cell_type": "code",
   "execution_count": null,
   "metadata": {
    "collapsed": true
   },
   "outputs": [],
   "source": [
    "#using models maked in cs231n assignment2\n",
    "from cs231n.classifiers.cnn import *\n",
    "from cs231n.data_utils import get_CIFAR10_data\n",
    "from cs231n.gradient_check import eval_numerical_gradient_array, eval_numerical_gradient\n",
    "from cs231n.layers import *\n",
    "from cs231n.fast_layers import *\n",
    "from cs231n.solver import Solver"
   ]
  },
  {
   "cell_type": "code",
   "execution_count": null,
   "metadata": {
    "collapsed": false
   },
   "outputs": [],
   "source": [
    "#model = ConvNet(hidden_dims=[64,64,128,128,256,256,512,512],hidden_dim=[4096,4096,1000],\n",
    "#                dropout=0.6,use_batchnorm=True,reg=1e-4,pool_period=2)\n",
    "#model = ConvNet(hidden_dims=[16],hidden_dim=[15],\n",
    "#                dropout=0.1,use_batchnorm=False,reg=0.5,pool_period=2)\n",
    "#model = ConvNet(hidden_dims=[64,128,256],hidden_dim=[1024,500],\n",
    "#                dropout=0.5,use_batchnorm=False,reg=2*1e-4,pool_period=1,num_classes=3)\n",
    "solver = Solver(model, data,\n",
    "                num_epochs=15, batch_size=60,\n",
    "                update_rule='adam',\n",
    "                optim_config={\n",
    "                  'learning_rate': 1e-5,\n",
    "                },\n",
    "                verbose=True, print_every=30)"
   ]
  },
  {
   "cell_type": "code",
   "execution_count": null,
   "metadata": {
    "collapsed": false
   },
   "outputs": [],
   "source": [
    "solver.train()"
   ]
  },
  {
   "cell_type": "code",
   "execution_count": null,
   "metadata": {
    "collapsed": false
   },
   "outputs": [],
   "source": [
    "plt.subplot(3, 1, 1)\n",
    "plt.plot(solver.loss_history, 'o')\n",
    "plt.xlabel('iteration')\n",
    "plt.ylabel('loss')\n",
    "\n",
    "plt.subplot(3, 1, 2)\n",
    "plt.plot(solver.train_acc_history, '-o')\n",
    "plt.plot(solver.val_acc_history, '-o')\n",
    "plt.legend(['train', 'val'], loc='upper left')\n",
    "plt.xlabel('epoch')\n",
    "plt.ylabel('accuracy')\n",
    "\n",
    "\n",
    "plt.subplot(3, 1, 3)\n",
    "plt.plot(solver.val_min_history, '-o')\n",
    "plt.plot(solver.val_mnt_history, '-o')\n",
    "plt.plot(solver.val_nhn_history, '-o')\n",
    "plt.legend(['min', 'mnt','nhn'], loc='lower right')\n",
    "plt.xlabel('epoch')\n",
    "plt.ylabel('accuracy')\n",
    "\n",
    "plt.show()\n",
    "\n"
   ]
  },
  {
   "cell_type": "code",
   "execution_count": null,
   "metadata": {
    "collapsed": false,
    "scrolled": true
   },
   "outputs": [],
   "source": [
    "#using model to predict Validation_set\n",
    "test_result=model.loss(data['X_val'])\n",
    "import pandas\n",
    "clasName=['min-han','mh_not','not_human']\n",
    "pairVal=zip(data['y_val'],np.argmax(test_result, axis=1))\n",
    "ps = pandas.Series([(clasName[i[0]],clasName[i[1]]) for i in pairVal])\n",
    "counts = ps.value_counts()\n",
    "print \"ground_truth v.s. predict\"\n",
    "print counts"
   ]
  },
  {
   "cell_type": "code",
   "execution_count": null,
   "metadata": {
    "collapsed": false
   },
   "outputs": [],
   "source": [
    "solver.train()"
   ]
  },
  {
   "cell_type": "code",
   "execution_count": null,
   "metadata": {
    "collapsed": false
   },
   "outputs": [],
   "source": [
    "plt.subplot(3, 1, 1)\n",
    "plt.plot(solver.loss_history, 'o')\n",
    "plt.xlabel('iteration')\n",
    "plt.ylabel('loss')\n",
    "\n",
    "plt.subplot(3, 1, 2)\n",
    "plt.plot(solver.train_acc_history, '-o')\n",
    "plt.plot(solver.val_acc_history, '-o')\n",
    "plt.legend(['train', 'val'], loc='upper left')\n",
    "plt.xlabel('epoch')\n",
    "plt.ylabel('accuracy')\n",
    "\n",
    "\n",
    "plt.subplot(3, 1, 3)\n",
    "plt.plot(solver.val_min_history, '-o')\n",
    "plt.plot(solver.val_mnt_history, '-o')\n",
    "plt.plot(solver.val_nhn_history, '-o')\n",
    "plt.legend(['min', 'mnt','nhn'], loc='lower right')\n",
    "plt.xlabel('epoch')\n",
    "plt.ylabel('accuracy')\n",
    "\n",
    "plt.show()\n",
    "\n"
   ]
  },
  {
   "cell_type": "code",
   "execution_count": null,
   "metadata": {
    "collapsed": false,
    "scrolled": true
   },
   "outputs": [],
   "source": [
    "#using model to predict Validation_set\n",
    "test_result=model.loss(data['X_val'])\n",
    "import pandas\n",
    "clasName=['min-han','mh_not','not_human']\n",
    "pairVal=zip(data['y_val'],np.argmax(test_result, axis=1))\n",
    "ps = pandas.Series([(clasName[i[0]],clasName[i[1]]) for i in pairVal])\n",
    "counts = ps.value_counts()\n",
    "print \"ground_truth v.s. predict\"\n",
    "print counts"
   ]
  },
  {
   "cell_type": "code",
   "execution_count": null,
   "metadata": {
    "collapsed": false
   },
   "outputs": [],
   "source": [
    "solver.train()"
   ]
  },
  {
   "cell_type": "code",
   "execution_count": null,
   "metadata": {
    "collapsed": false
   },
   "outputs": [],
   "source": [
    "plt.subplot(3, 1, 1)\n",
    "plt.plot(solver.loss_history, 'o')\n",
    "plt.xlabel('iteration')\n",
    "plt.ylabel('loss')\n",
    "\n",
    "plt.subplot(3, 1, 2)\n",
    "plt.plot(solver.train_acc_history, '-o')\n",
    "plt.plot(solver.val_acc_history, '-o')\n",
    "plt.legend(['train', 'val'], loc='upper left')\n",
    "plt.xlabel('epoch')\n",
    "plt.ylabel('accuracy')\n",
    "\n",
    "\n",
    "plt.subplot(3, 1, 3)\n",
    "plt.plot(solver.val_min_history, '-o')\n",
    "plt.plot(solver.val_mnt_history, '-o')\n",
    "plt.plot(solver.val_nhn_history, '-o')\n",
    "plt.legend(['min', 'mnt','nhn'], loc='lower right')\n",
    "plt.xlabel('epoch')\n",
    "plt.ylabel('accuracy')\n",
    "\n",
    "plt.show()\n",
    "\n"
   ]
  },
  {
   "cell_type": "code",
   "execution_count": null,
   "metadata": {
    "collapsed": false,
    "scrolled": true
   },
   "outputs": [],
   "source": [
    "#using model to predict Validation_set\n",
    "test_result=model.loss(data['X_val'])\n",
    "import pandas\n",
    "clasName=['min-han','mh_not','not_human']\n",
    "pairVal=zip(data['y_val'],np.argmax(test_result, axis=1))\n",
    "ps = pandas.Series([(clasName[i[0]],clasName[i[1]]) for i in pairVal])\n",
    "counts = ps.value_counts()\n",
    "print \"ground_truth v.s. predict\"\n",
    "print counts"
   ]
  },
  {
   "cell_type": "code",
   "execution_count": null,
   "metadata": {
    "collapsed": false
   },
   "outputs": [],
   "source": [
    "solver.train()"
   ]
  },
  {
   "cell_type": "code",
   "execution_count": null,
   "metadata": {
    "collapsed": false
   },
   "outputs": [],
   "source": [
    "plt.subplot(3, 1, 1)\n",
    "plt.plot(solver.loss_history, 'o')\n",
    "plt.xlabel('iteration')\n",
    "plt.ylabel('loss')\n",
    "\n",
    "plt.subplot(3, 1, 2)\n",
    "plt.plot(solver.train_acc_history, '-o')\n",
    "plt.plot(solver.val_acc_history, '-o')\n",
    "plt.legend(['train', 'val'], loc='upper left')\n",
    "plt.xlabel('epoch')\n",
    "plt.ylabel('accuracy')\n",
    "\n",
    "\n",
    "plt.subplot(3, 1, 3)\n",
    "plt.plot(solver.val_min_history, '-o')\n",
    "plt.plot(solver.val_mnt_history, '-o')\n",
    "plt.plot(solver.val_nhn_history, '-o')\n",
    "plt.legend(['min', 'mnt','nhn'], loc='upper left')\n",
    "plt.xlabel('epoch')\n",
    "plt.ylabel('accuracy')\n",
    "\n",
    "plt.show()\n",
    "\n"
   ]
  },
  {
   "cell_type": "code",
   "execution_count": null,
   "metadata": {
    "collapsed": false,
    "scrolled": true
   },
   "outputs": [],
   "source": [
    "#using model to predict Validation_set\n",
    "test_result=model.loss(data['X_val'])\n",
    "import pandas\n",
    "clasName=['min-han','mh_not','not_human']\n",
    "pairVal=zip(data['y_val'],np.argmax(test_result, axis=1))\n",
    "ps = pandas.Series([(clasName[i[0]],clasName[i[1]]) for i in pairVal])\n",
    "counts = ps.value_counts()\n",
    "print \"ground_truth v.s. predict\"\n",
    "print counts"
   ]
  },
  {
   "cell_type": "code",
   "execution_count": null,
   "metadata": {
    "collapsed": false
   },
   "outputs": [],
   "source": [
    "#visualize validation results\n",
    "preIdx=np.argmax(test_result, axis=1)\n",
    "wrongIdx=np.where(preIdx!=data['y_val'])\n",
    "imgTemp=data['X_val'][wrongIdx]\n",
    "imgLabel=data['y_val'][wrongIdx]\n",
    "\n",
    "x_train_temp = np.empty((imgTemp.shape[0],imgTemp.shape[2],imgTemp.shape[3],imgTemp.shape[1]))\n",
    "for j in range(imgTemp.shape[0]):\n",
    "    for i in range(imgTemp.shape[1]):\n",
    "        x_train_temp[j,:,:,i]=imgTemp[j,i,:,:]\n",
    "imgTemp=x_train_temp\n",
    "\n",
    "classes = ['min-han','not_mh','not_human']\n",
    "num_classes = 3\n",
    "samples_per_class = 8\n",
    "for y, cls in enumerate(classes):\n",
    "    idxs = np.flatnonzero(imgLabel == y)\n",
    "    try:\n",
    "        idxs = np.random.choice(idxs, samples_per_class, replace=False)\n",
    "    except:\n",
    "        pass\n",
    "    for i, idx in enumerate(idxs):\n",
    "        plt_idx = i * num_classes + y + 1\n",
    "        plt.subplot(samples_per_class, num_classes, plt_idx)\n",
    "        try:\n",
    "            plt.imshow(imgTemp[idx].astype('uint8'))\n",
    "        except :\n",
    "            pass\n",
    "        plt.axis('off')\n",
    "        #if i == 0:\n",
    "        plt.title(cls+\"->\"+classes[preIdx[wrongIdx][idx]])\n",
    "plt.show()"
   ]
  },
  {
   "cell_type": "code",
   "execution_count": null,
   "metadata": {
    "collapsed": false
   },
   "outputs": [],
   "source": [
    "#visualize those predicted correctly\n",
    "preIdx=np.argmax(test_result, axis=1)\n",
    "trueIdx=np.where(preIdx==data['y_val'])\n",
    "imgTemp=data['X_val'][trueIdx]\n",
    "imgLabel=data['y_val'][trueIdx]\n",
    "\n",
    "x_train_temp = np.empty((imgTemp.shape[0],imgTemp.shape[2],imgTemp.shape[3],imgTemp.shape[1]))\n",
    "for j in range(imgTemp.shape[0]):\n",
    "    for i in range(imgTemp.shape[1]):\n",
    "        x_train_temp[j,:,:,i]=imgTemp[j,i,:,:]\n",
    "imgTemp=x_train_temp\n",
    "\n",
    "classes = ['min-han','not_mh','not_human']\n",
    "num_classes = 3\n",
    "samples_per_class = 5\n",
    "for y, cls in enumerate(classes):\n",
    "    idxs = np.flatnonzero(imgLabel == y)\n",
    "    idxs = np.random.choice(idxs, samples_per_class, replace=False)\n",
    "    for i, idx in enumerate(idxs):\n",
    "        plt_idx = i * num_classes + y + 1\n",
    "        plt.subplot(samples_per_class, num_classes, plt_idx)\n",
    "        plt.imshow(imgTemp[idx].astype('uint8'))\n",
    "        plt.axis('off')\n",
    "        #if i == 0:\n",
    "        plt.title(cls+\"->\"+classes[preIdx[trueIdx][idx]])\n",
    "plt.show()"
   ]
  },
  {
   "cell_type": "code",
   "execution_count": null,
   "metadata": {
    "collapsed": false
   },
   "outputs": [],
   "source": [
    "#using model to predict training set\n",
    "test_result=model.loss(data['X_train'])\n",
    "import pandas\n",
    "clasName=['min-han','mh_not','not_human']\n",
    "pairVal=zip(data['y_train'],np.argmax(test_result, axis=1))\n",
    "ps = pandas.Series([(clasName[i[0]],clasName[i[1]]) for i in pairVal])\n",
    "counts = ps.value_counts()\n",
    "print \"ground_truth v.s. predict\"\n",
    "print counts"
   ]
  },
  {
   "cell_type": "code",
   "execution_count": null,
   "metadata": {
    "collapsed": false
   },
   "outputs": [],
   "source": [
    "preIdx=np.argmax(test_result, axis=1)\n",
    "wrongIdx=np.where(preIdx!=data['y_train'])\n",
    "imgTemp=data['X_train'][wrongIdx]\n",
    "imgLabel=data['y_train'][wrongIdx]\n",
    "\n",
    "x_train_temp = np.empty((imgTemp.shape[0],imgTemp.shape[2],imgTemp.shape[3],imgTemp.shape[1]))\n",
    "for j in range(imgTemp.shape[0]):\n",
    "    for i in range(imgTemp.shape[1]):\n",
    "        x_train_temp[j,:,:,i]=imgTemp[j,i,:,:]\n",
    "imgTemp=x_train_temp\n",
    "\n",
    "classes = ['min-han','not_mh','not_human']\n",
    "num_classes = 3\n",
    "samples_per_class = 10\n",
    "for y, cls in enumerate(classes):\n",
    "    idxs = np.flatnonzero(imgLabel == y)\n",
    "    try:\n",
    "        idxs = np.random.choice(idxs, samples_per_class, replace=False)\n",
    "    except:\n",
    "        pass\n",
    "    for i, idx in enumerate(idxs):\n",
    "        plt_idx = i * num_classes + y + 1\n",
    "        plt.subplot(samples_per_class, num_classes, plt_idx)\n",
    "        try:\n",
    "            plt.imshow(imgTemp[idx].astype('uint8'))\n",
    "        except :\n",
    "            pass\n",
    "        plt.axis('off')\n",
    "        #if i == 0:\n",
    "        plt.title(cls+\"->\"+classes[preIdx[wrongIdx][idx]])\n",
    "plt.show()"
   ]
  },
  {
   "cell_type": "code",
   "execution_count": null,
   "metadata": {
    "collapsed": true
   },
   "outputs": [],
   "source": []
  }
 ],
 "metadata": {
  "kernelspec": {
   "display_name": "Python 2",
   "language": "python",
   "name": "python2"
  },
  "language_info": {
   "codemirror_mode": {
    "name": "ipython",
    "version": 2
   },
   "file_extension": ".py",
   "mimetype": "text/x-python",
   "name": "python",
   "nbconvert_exporter": "python",
   "pygments_lexer": "ipython2",
   "version": "2.7.11"
  }
 },
 "nbformat": 4,
 "nbformat_minor": 0
}
