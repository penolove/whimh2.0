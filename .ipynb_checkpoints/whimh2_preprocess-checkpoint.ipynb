{
 "cells": [
  {
   "cell_type": "code",
   "execution_count": 30,
   "metadata": {
    "collapsed": false
   },
   "outputs": [],
   "source": [
    "import cv2\n",
    "import sys\n",
    "import glob\n",
    "import os\n",
    "import numpy as np\n"
   ]
  },
  {
   "cell_type": "code",
   "execution_count": 31,
   "metadata": {
    "collapsed": false
   },
   "outputs": [],
   "source": [
    "mh_yes_list=glob.glob(\"/home/stream/whimh2/mh_yes/*.jpg\")\n",
    "mh_not_list=glob.glob(\"/home/stream/whimh2/mh_not/*.jpg\")\n",
    "human_not_list=glob.glob(\"/home/stream/whimh2/human_not/*.jpg\")\n",
    "datarows=len(mh_yes_list)+len(mh_not_list)+len(human_not_list)"
   ]
  },
  {
   "cell_type": "code",
   "execution_count": 34,
   "metadata": {
    "collapsed": false
   },
   "outputs": [],
   "source": [
    "frames = np.empty((datarows, 32,32, 3))\n",
    "frames2 = np.empty((datarows, 32,32, 3))\n",
    "\n",
    "y_train=np.empty(datarows)\n",
    "count=0\n",
    "for k in xrange(len(mh_yes_list)):\n",
    "    frames[k,:,:,:] = cv2.resize(cv2.imread(mh_yes_list[k]),(32,32))\n",
    "y_train[count:count+len(mh_yes_list)]=0\n",
    "count=count+len(mh_yes_list)\n",
    "\n",
    "for k in xrange(len(mh_not_list)):\n",
    "    frames[count+k,:,:,:] = cv2.resize(cv2.imread(mh_not_list[k]),(32,32))\n",
    "y_train[count:count+len(mh_not_list)]=1\n",
    "count=count+len(mh_not_list)\n",
    "\n",
    "for k in xrange(len(human_not_list)):\n",
    "    frames[count+k,:,:,:] = cv2.resize(cv2.imread(human_not_list[k]),(32,32))\n",
    "y_train[count:count+len(human_not_list)]=2\n",
    "count=count+len(human_not_list)\n",
    "\n",
    "#R\n",
    "frames2[:,:,:,0]=frames[:,:,:,2]\n",
    "#G\n",
    "frames2[:,:,:,1]=frames[:,:,:,1]\n",
    "#B\n",
    "frames2[:,:,:,2]=frames[:,:,:,0]\n",
    "\n",
    "\n",
    "np.save(\"/home/stream/whimh2/outfile_x\",frames2)\n",
    "np.save(\"/home/stream/whimh2/outfile_y\",y_train)"
   ]
  },
  {
   "cell_type": "code",
   "execution_count": null,
   "metadata": {
    "collapsed": true
   },
   "outputs": [],
   "source": []
  }
 ],
 "metadata": {
  "kernelspec": {
   "display_name": "Python 2",
   "language": "python",
   "name": "python2"
  },
  "language_info": {
   "codemirror_mode": {
    "name": "ipython",
    "version": 2
   },
   "file_extension": ".py",
   "mimetype": "text/x-python",
   "name": "python",
   "nbconvert_exporter": "python",
   "pygments_lexer": "ipython2",
   "version": "2.7.12"
  }
 },
 "nbformat": 4,
 "nbformat_minor": 0
}
